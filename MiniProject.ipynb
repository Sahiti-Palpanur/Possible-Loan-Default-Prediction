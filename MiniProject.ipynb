{
 "cells": [
  {
   "cell_type": "code",
   "execution_count": 34,
   "id": "ee26d908",
   "metadata": {},
   "outputs": [
    {
     "ename": "ModuleNotFoundError",
     "evalue": "No module named 'psycopg2'",
     "output_type": "error",
     "traceback": [
      "\u001b[1;31m---------------------------------------------------------------------------\u001b[0m",
      "\u001b[1;31mModuleNotFoundError\u001b[0m                       Traceback (most recent call last)",
      "\u001b[1;32mC:\\Users\\SAHITI~1\\AppData\\Local\\Temp/ipykernel_20472/4032983470.py\u001b[0m in \u001b[0;36m<module>\u001b[1;34m\u001b[0m\n\u001b[0;32m      3\u001b[0m \u001b[1;32mimport\u001b[0m \u001b[0mmath\u001b[0m\u001b[1;33m\u001b[0m\u001b[1;33m\u001b[0m\u001b[0m\n\u001b[0;32m      4\u001b[0m \u001b[1;32mimport\u001b[0m \u001b[0mtime\u001b[0m\u001b[1;33m\u001b[0m\u001b[1;33m\u001b[0m\u001b[0m\n\u001b[1;32m----> 5\u001b[1;33m \u001b[1;32mfrom\u001b[0m \u001b[0mpsycopg2\u001b[0m\u001b[1;33m.\u001b[0m\u001b[0mextensions\u001b[0m \u001b[1;32mimport\u001b[0m \u001b[0mISOLATION_LEVEL_AUTOCOMMIT\u001b[0m\u001b[1;33m\u001b[0m\u001b[1;33m\u001b[0m\u001b[0m\n\u001b[0m\u001b[0;32m      6\u001b[0m \u001b[1;32mfrom\u001b[0m \u001b[0mpsycopg2\u001b[0m \u001b[1;32mimport\u001b[0m \u001b[0mconnect\u001b[0m\u001b[1;33m\u001b[0m\u001b[1;33m\u001b[0m\u001b[0m\n\u001b[0;32m      7\u001b[0m \u001b[1;32mimport\u001b[0m \u001b[0mpandas\u001b[0m\u001b[1;33m.\u001b[0m\u001b[0mio\u001b[0m\u001b[1;33m.\u001b[0m\u001b[0msql\u001b[0m \u001b[1;32mas\u001b[0m \u001b[0msqlio\u001b[0m\u001b[1;33m\u001b[0m\u001b[1;33m\u001b[0m\u001b[0m\n",
      "\u001b[1;31mModuleNotFoundError\u001b[0m: No module named 'psycopg2'"
     ]
    }
   ],
   "source": [
    "import numpy as np\n",
    "import pandas as pd\n",
    "import math\n",
    "import time\n",
    "from psycopg2.extensions import ISOLATION_LEVEL_AUTOCOMMIT\n",
    "from psycopg2 import connect\n",
    "import pandas.io.sql as sqlio\n",
    "import matplotlib.pyplot as plt\n",
    "import seaborn as sns\n",
    "from mlxtend.plotting import plot_decision_regions\n",
    "import matplotlib.style as style \n",
    "import matplotlib.ticker as ticker\n",
    "\n",
    "%matplotlib inline\n",
    "\n",
    "# make prettier plots\n",
    "%config InlineBackend.figure_format = 'svg'"
   ]
  },
  {
   "cell_type": "code",
   "execution_count": 20,
   "id": "20721a72",
   "metadata": {},
   "outputs": [],
   "source": [
    "df_q1=pd.read_csv(\"E:\\LoanStats_securev1_2018Q1.csv\\LoanStats_securev1_2018Q1.csv\",low_memory=False)"
   ]
  },
  {
   "cell_type": "code",
   "execution_count": 21,
   "id": "dec346c0",
   "metadata": {},
   "outputs": [
    {
     "data": {
      "text/plain": [
       "(107868, 150)"
      ]
     },
     "execution_count": 21,
     "metadata": {},
     "output_type": "execute_result"
    }
   ],
   "source": [
    "df_q1.shape"
   ]
  },
  {
   "cell_type": "code",
   "execution_count": 13,
   "id": "01d453fd",
   "metadata": {},
   "outputs": [],
   "source": [
    "df_q2=pd.read_csv(\"E:\\LoanStats_securev1_2018Q2.csv\\LoanStats_securev1_2018Q2.csv\",low_memory=False)"
   ]
  },
  {
   "cell_type": "code",
   "execution_count": 16,
   "id": "147e9a61",
   "metadata": {},
   "outputs": [
    {
     "data": {
      "text/plain": [
       "(130776, 150)"
      ]
     },
     "execution_count": 16,
     "metadata": {},
     "output_type": "execute_result"
    }
   ],
   "source": [
    "df_q2.shape"
   ]
  },
  {
   "cell_type": "code",
   "execution_count": 15,
   "id": "311ecfb3",
   "metadata": {},
   "outputs": [],
   "source": [
    "df_q3=pd.read_csv(\"E:\\LoanStats_securev1_2018Q3.csv\\LoanStats_securev1_2018Q3.csv\",low_memory=False)"
   ]
  },
  {
   "cell_type": "code",
   "execution_count": 17,
   "id": "e7f19932",
   "metadata": {},
   "outputs": [
    {
     "data": {
      "text/plain": [
       "(128198, 150)"
      ]
     },
     "execution_count": 17,
     "metadata": {},
     "output_type": "execute_result"
    }
   ],
   "source": [
    "df_q3.shape"
   ]
  },
  {
   "cell_type": "code",
   "execution_count": 18,
   "id": "abdabf0b",
   "metadata": {},
   "outputs": [],
   "source": [
    "df_q4=pd.read_csv(\"E:\\LoanStats_securev1_2018Q4.csv\\LoanStats_securev1_2018Q4.csv\",low_memory=False)"
   ]
  },
  {
   "cell_type": "code",
   "execution_count": 19,
   "id": "983bd14f",
   "metadata": {},
   "outputs": [
    {
     "data": {
      "text/plain": [
       "(128416, 150)"
      ]
     },
     "execution_count": 19,
     "metadata": {},
     "output_type": "execute_result"
    }
   ],
   "source": [
    "df_q4.shape"
   ]
  },
  {
   "cell_type": "code",
   "execution_count": 23,
   "id": "89023fce",
   "metadata": {},
   "outputs": [],
   "source": [
    "df = pd.concat([df_q1,df_q2,df_q3,df_q4]).drop_duplicates(\n",
    "    subset='id', keep='last').reset_index(drop=True)"
   ]
  },
  {
   "cell_type": "code",
   "execution_count": 24,
   "id": "8a5a1c06",
   "metadata": {},
   "outputs": [
    {
     "data": {
      "text/plain": [
       "(495251, 150)"
      ]
     },
     "execution_count": 24,
     "metadata": {},
     "output_type": "execute_result"
    }
   ],
   "source": [
    "df.shape"
   ]
  },
  {
   "cell_type": "code",
   "execution_count": 30,
   "id": "0e5db0aa",
   "metadata": {},
   "outputs": [
    {
     "data": {
      "text/plain": [
       "id                        object\n",
       "member_id                float64\n",
       "loan_amnt                float64\n",
       "funded_amnt              float64\n",
       "funded_amnt_inv          float64\n",
       "                          ...   \n",
       "settlement_status         object\n",
       "settlement_date           object\n",
       "settlement_amount        float64\n",
       "settlement_percentage    float64\n",
       "settlement_term          float64\n",
       "Length: 150, dtype: object"
      ]
     },
     "execution_count": 30,
     "metadata": {},
     "output_type": "execute_result"
    }
   ],
   "source": [
    "pd.set_option('display.max_columns',None)\n",
    "df.dtypes"
   ]
  },
  {
   "cell_type": "code",
   "execution_count": 32,
   "id": "b276ea49",
   "metadata": {},
   "outputs": [
    {
     "data": {
      "text/plain": [
       "{'id': dtype('O'),\n",
       " 'member_id': dtype('float64'),\n",
       " 'loan_amnt': dtype('float64'),\n",
       " 'funded_amnt': dtype('float64'),\n",
       " 'funded_amnt_inv': dtype('float64'),\n",
       " 'term': dtype('O'),\n",
       " 'int_rate': dtype('O'),\n",
       " 'installment': dtype('float64'),\n",
       " 'grade': dtype('O'),\n",
       " 'sub_grade': dtype('O'),\n",
       " 'emp_title': dtype('O'),\n",
       " 'emp_length': dtype('O'),\n",
       " 'home_ownership': dtype('O'),\n",
       " 'annual_inc': dtype('float64'),\n",
       " 'verification_status': dtype('O'),\n",
       " 'issue_d': dtype('O'),\n",
       " 'loan_status': dtype('O'),\n",
       " 'pymnt_plan': dtype('O'),\n",
       " 'url': dtype('O'),\n",
       " 'desc': dtype('float64'),\n",
       " 'purpose': dtype('O'),\n",
       " 'title': dtype('O'),\n",
       " 'zip_code': dtype('O'),\n",
       " 'addr_state': dtype('O'),\n",
       " 'dti': dtype('float64'),\n",
       " 'delinq_2yrs': dtype('float64'),\n",
       " 'earliest_cr_line': dtype('O'),\n",
       " 'fico_range_low': dtype('float64'),\n",
       " 'fico_range_high': dtype('float64'),\n",
       " 'inq_last_6mths': dtype('float64'),\n",
       " 'mths_since_last_delinq': dtype('float64'),\n",
       " 'mths_since_last_record': dtype('float64'),\n",
       " 'open_acc': dtype('float64'),\n",
       " 'pub_rec': dtype('float64'),\n",
       " 'revol_bal': dtype('float64'),\n",
       " 'revol_util': dtype('O'),\n",
       " 'total_acc': dtype('float64'),\n",
       " 'initial_list_status': dtype('O'),\n",
       " 'out_prncp': dtype('float64'),\n",
       " 'out_prncp_inv': dtype('float64'),\n",
       " 'total_pymnt': dtype('float64'),\n",
       " 'total_pymnt_inv': dtype('float64'),\n",
       " 'total_rec_prncp': dtype('float64'),\n",
       " 'total_rec_int': dtype('float64'),\n",
       " 'total_rec_late_fee': dtype('float64'),\n",
       " 'recoveries': dtype('float64'),\n",
       " 'collection_recovery_fee': dtype('float64'),\n",
       " 'last_pymnt_d': dtype('O'),\n",
       " 'last_pymnt_amnt': dtype('float64'),\n",
       " 'next_pymnt_d': dtype('O'),\n",
       " 'last_credit_pull_d': dtype('O'),\n",
       " 'last_fico_range_high': dtype('float64'),\n",
       " 'last_fico_range_low': dtype('float64'),\n",
       " 'collections_12_mths_ex_med': dtype('float64'),\n",
       " 'mths_since_last_major_derog': dtype('float64'),\n",
       " 'policy_code': dtype('float64'),\n",
       " 'application_type': dtype('O'),\n",
       " 'annual_inc_joint': dtype('float64'),\n",
       " 'dti_joint': dtype('float64'),\n",
       " 'verification_status_joint': dtype('O'),\n",
       " 'acc_now_delinq': dtype('float64'),\n",
       " 'tot_coll_amt': dtype('float64'),\n",
       " 'tot_cur_bal': dtype('float64'),\n",
       " 'open_acc_6m': dtype('float64'),\n",
       " 'open_act_il': dtype('float64'),\n",
       " 'open_il_12m': dtype('float64'),\n",
       " 'open_il_24m': dtype('float64'),\n",
       " 'mths_since_rcnt_il': dtype('float64'),\n",
       " 'total_bal_il': dtype('float64'),\n",
       " 'il_util': dtype('float64'),\n",
       " 'open_rv_12m': dtype('float64'),\n",
       " 'open_rv_24m': dtype('float64'),\n",
       " 'max_bal_bc': dtype('float64'),\n",
       " 'all_util': dtype('float64'),\n",
       " 'total_rev_hi_lim': dtype('float64'),\n",
       " 'inq_fi': dtype('float64'),\n",
       " 'total_cu_tl': dtype('float64'),\n",
       " 'inq_last_12m': dtype('float64'),\n",
       " 'acc_open_past_24mths': dtype('float64'),\n",
       " 'avg_cur_bal': dtype('float64'),\n",
       " 'bc_open_to_buy': dtype('float64'),\n",
       " 'bc_util': dtype('float64'),\n",
       " 'chargeoff_within_12_mths': dtype('float64'),\n",
       " 'delinq_amnt': dtype('float64'),\n",
       " 'mo_sin_old_il_acct': dtype('float64'),\n",
       " 'mo_sin_old_rev_tl_op': dtype('float64'),\n",
       " 'mo_sin_rcnt_rev_tl_op': dtype('float64'),\n",
       " 'mo_sin_rcnt_tl': dtype('float64'),\n",
       " 'mort_acc': dtype('float64'),\n",
       " 'mths_since_recent_bc': dtype('float64'),\n",
       " 'mths_since_recent_bc_dlq': dtype('float64'),\n",
       " 'mths_since_recent_inq': dtype('float64'),\n",
       " 'mths_since_recent_revol_delinq': dtype('float64'),\n",
       " 'num_accts_ever_120_pd': dtype('float64'),\n",
       " 'num_actv_bc_tl': dtype('float64'),\n",
       " 'num_actv_rev_tl': dtype('float64'),\n",
       " 'num_bc_sats': dtype('float64'),\n",
       " 'num_bc_tl': dtype('float64'),\n",
       " 'num_il_tl': dtype('float64'),\n",
       " 'num_op_rev_tl': dtype('float64'),\n",
       " 'num_rev_accts': dtype('float64'),\n",
       " 'num_rev_tl_bal_gt_0': dtype('float64'),\n",
       " 'num_sats': dtype('float64'),\n",
       " 'num_tl_120dpd_2m': dtype('float64'),\n",
       " 'num_tl_30dpd': dtype('float64'),\n",
       " 'num_tl_90g_dpd_24m': dtype('float64'),\n",
       " 'num_tl_op_past_12m': dtype('float64'),\n",
       " 'pct_tl_nvr_dlq': dtype('float64'),\n",
       " 'percent_bc_gt_75': dtype('float64'),\n",
       " 'pub_rec_bankruptcies': dtype('float64'),\n",
       " 'tax_liens': dtype('float64'),\n",
       " 'tot_hi_cred_lim': dtype('float64'),\n",
       " 'total_bal_ex_mort': dtype('float64'),\n",
       " 'total_bc_limit': dtype('float64'),\n",
       " 'total_il_high_credit_limit': dtype('float64'),\n",
       " 'revol_bal_joint': dtype('float64'),\n",
       " 'sec_app_fico_range_low': dtype('float64'),\n",
       " 'sec_app_fico_range_high': dtype('float64'),\n",
       " 'sec_app_earliest_cr_line': dtype('O'),\n",
       " 'sec_app_inq_last_6mths': dtype('float64'),\n",
       " 'sec_app_mort_acc': dtype('float64'),\n",
       " 'sec_app_open_acc': dtype('float64'),\n",
       " 'sec_app_revol_util': dtype('float64'),\n",
       " 'sec_app_open_act_il': dtype('float64'),\n",
       " 'sec_app_num_rev_accts': dtype('float64'),\n",
       " 'sec_app_chargeoff_within_12_mths': dtype('float64'),\n",
       " 'sec_app_collections_12_mths_ex_med': dtype('float64'),\n",
       " 'sec_app_mths_since_last_major_derog': dtype('float64'),\n",
       " 'hardship_flag': dtype('O'),\n",
       " 'hardship_type': dtype('O'),\n",
       " 'hardship_reason': dtype('O'),\n",
       " 'hardship_status': dtype('O'),\n",
       " 'deferral_term': dtype('float64'),\n",
       " 'hardship_amount': dtype('float64'),\n",
       " 'hardship_start_date': dtype('O'),\n",
       " 'hardship_end_date': dtype('O'),\n",
       " 'payment_plan_start_date': dtype('O'),\n",
       " 'hardship_length': dtype('float64'),\n",
       " 'hardship_dpd': dtype('float64'),\n",
       " 'hardship_loan_status': dtype('O'),\n",
       " 'orig_projected_additional_accrued_interest': dtype('float64'),\n",
       " 'hardship_payoff_balance_amount': dtype('float64'),\n",
       " 'hardship_last_payment_amount': dtype('float64'),\n",
       " 'debt_settlement_flag': dtype('O'),\n",
       " 'debt_settlement_flag_date': dtype('O'),\n",
       " 'settlement_status': dtype('O'),\n",
       " 'settlement_date': dtype('O'),\n",
       " 'settlement_amount': dtype('float64'),\n",
       " 'settlement_percentage': dtype('float64'),\n",
       " 'settlement_term': dtype('float64')}"
      ]
     },
     "execution_count": 32,
     "metadata": {},
     "output_type": "execute_result"
    }
   ],
   "source": [
    "dict(df.dtypes)"
   ]
  },
  {
   "cell_type": "code",
   "execution_count": 36,
   "id": "9847b635",
   "metadata": {},
   "outputs": [
    {
     "ename": "ModuleNotFoundError",
     "evalue": "No module named 'psycopg2'",
     "output_type": "error",
     "traceback": [
      "\u001b[1;31m---------------------------------------------------------------------------\u001b[0m",
      "\u001b[1;31mModuleNotFoundError\u001b[0m                       Traceback (most recent call last)",
      "\u001b[1;32mC:\\Users\\SAHITI~1\\AppData\\Local\\Temp/ipykernel_20472/2968098793.py\u001b[0m in \u001b[0;36m<module>\u001b[1;34m\u001b[0m\n\u001b[0;32m      7\u001b[0m \u001b[1;31m#data has a header, columns and a footer. You will need to remove the header, column names and the footer from each CSV\u001b[0m\u001b[1;33m\u001b[0m\u001b[1;33m\u001b[0m\u001b[0m\n\u001b[0;32m      8\u001b[0m \u001b[1;31m#file for this script to work properly.\u001b[0m\u001b[1;33m\u001b[0m\u001b[1;33m\u001b[0m\u001b[0m\n\u001b[1;32m----> 9\u001b[1;33m \u001b[1;32mfrom\u001b[0m \u001b[0mpsycopg2\u001b[0m \u001b[1;32mimport\u001b[0m \u001b[0mconnect\u001b[0m\u001b[1;33m\u001b[0m\u001b[1;33m\u001b[0m\u001b[0m\n\u001b[0m\u001b[0;32m     10\u001b[0m params = {\n\u001b[0;32m     11\u001b[0m     \u001b[1;34m'host'\u001b[0m\u001b[1;33m:\u001b[0m \u001b[1;34m'loans.cr9obhxijj8k.ap-south-1.rds.amazonaws.com'\u001b[0m\u001b[1;33m,\u001b[0m\u001b[1;33m\u001b[0m\u001b[1;33m\u001b[0m\u001b[0m\n",
      "\u001b[1;31mModuleNotFoundError\u001b[0m: No module named 'psycopg2'"
     ]
    }
   ],
   "source": [
    "#Let's set up our database connection for our remote AWS instance\n",
    "\n",
    "#Note: You will need to set up your own database. Replace the IP below with a valid hostname. \n",
    "#127.0.0.1 is just a placehoder\n",
    "\n",
    "#Take a look at the /sql folder for a SQL script that will help load the Lending Club data. Also, note that the raw LC \n",
    "#data has a header, columns and a footer. You will need to remove the header, column names and the footer from each CSV\n",
    "#file for this script to work properly.\n",
    "from psycopg2 import connect\n",
    "params = {\n",
    "    'host': 'loans.cr9obhxijj8k.ap-south-1.rds.amazonaws.com',\n",
    "    'user': 'postgres',\n",
    "    'port': 5432\n",
    "}\n",
    "\n",
    "# Connect \n",
    "connection = connect(**params, dbname='loans')\n",
    "connection.set_isolation_level(ISOLATION_LEVEL_AUTOCOMMIT)"
   ]
  }
 ],
 "metadata": {
  "kernelspec": {
   "display_name": "Python 3 (ipykernel)",
   "language": "python",
   "name": "python3"
  },
  "language_info": {
   "codemirror_mode": {
    "name": "ipython",
    "version": 3
   },
   "file_extension": ".py",
   "mimetype": "text/x-python",
   "name": "python",
   "nbconvert_exporter": "python",
   "pygments_lexer": "ipython3",
   "version": "3.9.7"
  }
 },
 "nbformat": 4,
 "nbformat_minor": 5
}
